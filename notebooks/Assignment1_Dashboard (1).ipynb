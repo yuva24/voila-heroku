{
  "nbformat": 4,
  "nbformat_minor": 0,
  "metadata": {
    "colab": {
      "name": "Assignment1_Dashboard.ipynb",
      "provenance": [],
      "collapsed_sections": [
        "zdcV4oeuY3vy",
        "zlr4Tq3GLSbG",
        "Q1nFF8Q4X65m",
        "DxCA4Fqs2IOJ",
        "1rZF-cCz2tVd",
        "VcmeIB4vf_nJ",
        "wOjRi4W_32bx",
        "sf6tElLy32sZ",
        "ITXVPfzRQExY",
        "zbRgwEY446A6",
        "_73pI_Qp46Q2",
        "U1ze2mh1Z4Wl",
        "XOp8cbOV5r0O",
        "l3KZTfWa5sAb",
        "oTq8PR2gRB6Z",
        "YjFct6Rf6mwK",
        "ZfRz5tzd6m1J",
        "WtefmKBarC9M",
        "780OAShB7FxY",
        "iA1v03bq7Fok"
      ]
    },
    "kernelspec": {
      "name": "python3",
      "display_name": "Python 3"
    }
  },
  "cells": [
    {
      "cell_type": "code",
      "metadata": {
        "id": "lMzG3iVrLhLa"
      },
      "source": [
        "import os\r\n",
        "import sys\r\n",
        "import json\r\n",
        "import math\r\n",
        "from tweepy import Cursor\r\n",
        "import tweepy\r\n",
        "from tweepy import OAuthHandler\r\n",
        "import datetime\r\n",
        "import jsonpickle\r\n",
        "import time\r\n",
        "import numpy as np\r\n",
        "from collections import Counter\r\n",
        "from random import sample\r\n",
        "import pandas as pd\r\n",
        "from datetime import datetime\r\n",
        "import numpy\r\n",
        "import matplotlib.pyplot as plt\r\n",
        "%matplotlib inline"
      ],
      "execution_count": 3,
      "outputs": []
    },
    {
      "cell_type": "code",
      "metadata": {
        "id": "gHWmgIbbLLvr"
      },
      "source": [
        "#Variables that contains the user credentials to access Twitter API\r\n",
        "consumer_key = \"lc2ot5qCQ7S3hZ081vYnnR41n\"\r\n",
        "consumer_secret = \"fdC2OwgYZPqOuem8wLgvuZZ3YSWmwKeffYf88rEpRyEyH4jeBy\"\r\n",
        "access_token = \"448597226-MKZeTehna3KIQ6KDR9ZkDV8vkUJno6WZBwFaNMNo\"\r\n",
        "access_token_secret = \"7U1xwyWIC41JBwkDoLkN7NxgAzcFVKJz4EatqBGnGvMOL\"\r\n",
        "\r\n",
        "\r\n",
        "auth = OAuthHandler(consumer_key, consumer_secret)\r\n",
        "auth.set_access_token(access_token, access_token_secret)\r\n",
        "api = tweepy.API(auth, wait_on_rate_limit=True)\r\n",
        "\r\n"
      ],
      "execution_count": 4,
      "outputs": []
    },
    {
      "cell_type": "code",
      "metadata": {
        "colab": {
          "base_uri": "https://localhost:8080/"
        },
        "id": "fcNhmRQcX1Mf",
        "outputId": "adaac128-5efa-4a81-eaa8-57c195260c7e"
      },
      "source": [
        "screen_name = \"CadburyUK\"\r\n",
        "\r\n",
        "def UserStatuses(): #Extract user timeline\r\n",
        "    fName = \"{}.json\".format(screen_name)\r\n",
        "    with open(fName, 'w') as f:\r\n",
        "        for tweet in tweepy.Cursor(api.user_timeline, screen_name).items():\r\n",
        "                f.write(jsonpickle.encode(tweet._json, unpicklable=False) + '\\n')\r\n",
        "                #print(tweet.text + '\\t' + str(tweet.created_at))\r\n",
        "        print(\"\\n\")\r\n",
        "        \r\n",
        "UserStatuses()"
      ],
      "execution_count": 5,
      "outputs": [
        {
          "output_type": "stream",
          "text": [
            "\n",
            "\n"
          ],
          "name": "stdout"
        }
      ]
    },
    {
      "cell_type": "code",
      "metadata": {
        "id": "-S5E9JdmU7T6"
      },
      "source": [
        "# load data of tweets mentioning cadbury\r\n",
        "\r\n",
        "# create an empty list to store our tweets in\r\n",
        "data_cadbury = []\r\n",
        "\r\n",
        "# append each line of the data to our tweets list using the json module\r\n",
        "for line in open('CadburyUK.json'):\r\n",
        "    try:\r\n",
        "        data_cadbury.append(json.loads(line))\r\n",
        "    except:\r\n",
        "        pass"
      ],
      "execution_count": 6,
      "outputs": []
    },
    {
      "cell_type": "code",
      "metadata": {
        "id": "QDOtIHbTUO_Z"
      },
      "source": [
        "# saving the entire tweets in a CSV file\r\n",
        "\r\n",
        "texts = [ T['text'] for T in data_cadbury if 'text' in T ]\r\n",
        "\r\n",
        "# convert to list\r\n",
        "\r\n",
        "tweets = []\r\n",
        "for T in data_cadbury:\r\n",
        "    if 'text' in T:\r\n",
        "        tweets.append(T)\r\n",
        "\r\n",
        "# convert to dataframe\r\n",
        "\r\n",
        "times = [T['created_at'] for T in tweets]\r\n",
        "tweet = [T['text'] for T in tweets]\r\n",
        "screen_names = [T['user']['screen_name'] for T in tweets]\r\n",
        "\r\n",
        "# open an output csv file to write to\r\n",
        "out = open('CadburyUK_tweets.csv', 'w', encoding='UTF-8', newline='')\r\n",
        "\r\n",
        "# write the header of our CSV as its first line\r\n",
        "out.write('created_at,tweet,screen_name\\n')\r\n",
        "\r\n",
        "# merge each individual list into a single list using the zip function\r\n",
        "rows = list(zip(times, tweet, screen_names))\r\n",
        "\r\n",
        "# use the writer module on our csv file\r\n",
        "from csv import writer\r\n",
        "csv = writer(out)\r\n",
        "\r\n",
        "# use one value from each of our rows list and write it to the csv as a new row\r\n",
        "for row in rows:\r\n",
        "    values = [value for value in row]\r\n",
        "    csv.writerow(values)\r\n",
        "\r\n",
        "# close our csv file when done\r\n",
        "out.close()"
      ],
      "execution_count": 7,
      "outputs": []
    },
    {
      "cell_type": "code",
      "metadata": {
        "id": "tMiHHvWvQvZq"
      },
      "source": [
        "df_cadbury = pd.read_csv(\"CadburyUK_tweets.csv\")"
      ],
      "execution_count": 8,
      "outputs": []
    },
    {
      "cell_type": "code",
      "metadata": {
        "id": "lI9bGa_0OjcO"
      },
      "source": [
        "df_cadbury['tweet'] = df_cadbury.tweet.str.lower()\r\n",
        "df_cadbury['retweet'] = df_cadbury.tweet.str.startswith(\"rt\")\r\n",
        "df_cadbury['hashtags'] = df_cadbury.tweet.str.findall(r\"(?<=#)\\w+\")\r\n",
        "df_cadbury['mentions'] = df_cadbury.tweet.str.findall(\"(?<=@)\\w+\")\r\n",
        "df_cadbury['hashtag_count'] = df_cadbury.tweet.str.findall(\"(?<=#)\\w+\").str.len()\r\n",
        "df_cadbury['mention_count'] = df_cadbury.tweet.str.findall(\"(?<=@)\\w+\").str.len()\r\n",
        "df_cadbury['cleaned'] = df_cadbury['tweet']\r\n",
        "df_cadbury['hashtags'] = df_cadbury['hashtags'].apply(', '.join)\r\n",
        "df_cadbury['mentions'] = df_cadbury['mentions'].apply(', '.join)\r\n",
        "df_cadbury['cleaned'] = df_cadbury.cleaned.str.replace('http\\S+|www.\\S+', '')\r\n",
        "df_cadbury['cleaned'] = df_cadbury['cleaned'].str.replace(\"[^a-zA-Z]\", \" \")\r\n",
        "df_cadbury['cleaned'] = df_cadbury.cleaned.str.findall('\\w{3,}').str.join(' ')"
      ],
      "execution_count": 9,
      "outputs": []
    },
    {
      "cell_type": "code",
      "metadata": {
        "colab": {
          "base_uri": "https://localhost:8080/"
        },
        "id": "4qAiUaOdc1VE",
        "outputId": "174f0a08-a49a-45c2-b5be-aa2c5b1b4423"
      },
      "source": [
        "screen_name = \"hersheys\"\r\n",
        "\r\n",
        "def UserStatuses(): #Extract user timeline\r\n",
        "    fName = \"{}.json\".format(screen_name)\r\n",
        "    with open(fName, 'w') as f:\r\n",
        "        for tweet in tweepy.Cursor(api.user_timeline, screen_name).items():\r\n",
        "                f.write(jsonpickle.encode(tweet._json, unpicklable=False) + '\\n')\r\n",
        "                #print(tweet.text + '\\t' + str(tweet.created_at))\r\n",
        "        print(\"\\n\")\r\n",
        "        \r\n",
        "UserStatuses()"
      ],
      "execution_count": 10,
      "outputs": [
        {
          "output_type": "stream",
          "text": [
            "\n",
            "\n"
          ],
          "name": "stdout"
        }
      ]
    },
    {
      "cell_type": "code",
      "metadata": {
        "id": "Vjx-b1K59XPC"
      },
      "source": [
        "# load data of tweets mentioning hersheys\r\n",
        "\r\n",
        "# create an empty list to store our tweets in\r\n",
        "data_hersheys = []\r\n",
        "\r\n",
        "# append each line of the data to our tweets list using the json module\r\n",
        "for line in open('hersheys.json'):\r\n",
        "    try:\r\n",
        "        data_hersheys.append(json.loads(line))\r\n",
        "    except:\r\n",
        "        pass\r\n"
      ],
      "execution_count": 11,
      "outputs": []
    },
    {
      "cell_type": "code",
      "metadata": {
        "id": "BF_2HVSE9XPD"
      },
      "source": [
        "# saving the entire tweets in a CSV file\r\n",
        "\r\n",
        "texts = [ T['text'] for T in data_hersheys if 'text' in T ]\r\n",
        "\r\n",
        "# convert to list\r\n",
        "\r\n",
        "tweets = []\r\n",
        "for T in data_hersheys:\r\n",
        "    if 'text' in T:\r\n",
        "        tweets.append(T)\r\n",
        "\r\n",
        "# convert to dataframe\r\n",
        "\r\n",
        "times = [T['created_at'] for T in tweets]\r\n",
        "tweet = [T['text'] for T in tweets]\r\n",
        "screen_names = [T['user']['screen_name'] for T in tweets]\r\n",
        "\r\n",
        "# open an output csv file to write to\r\n",
        "out = open('Hersheys_tweets.csv', 'w', encoding='UTF-8', newline='')\r\n",
        "\r\n",
        "# write the header of our CSV as its first line\r\n",
        "out.write('created_at,tweet,screen_name\\n')\r\n",
        "\r\n",
        "# merge each individual list into a single list using the zip function\r\n",
        "rows = list(zip(times, tweet, screen_names))\r\n",
        "\r\n",
        "# use the writer module on our csv file\r\n",
        "from csv import writer\r\n",
        "csv = writer(out)\r\n",
        "\r\n",
        "# use one value from each of our rows list and write it to the csv as a new row\r\n",
        "for row in rows:\r\n",
        "    values = [value for value in row]\r\n",
        "    csv.writerow(values)\r\n",
        "\r\n",
        "# close our csv file when done\r\n",
        "out.close()"
      ],
      "execution_count": 12,
      "outputs": []
    },
    {
      "cell_type": "code",
      "metadata": {
        "id": "3idQ4-Kq8eaN"
      },
      "source": [
        "df_hersheys = pd.read_csv(\"Hersheys_tweets.csv\")"
      ],
      "execution_count": 13,
      "outputs": []
    },
    {
      "cell_type": "code",
      "metadata": {
        "id": "nCbNDupsWiLL"
      },
      "source": [
        "df_hersheys['tweet'] = df_hersheys.tweet.str.lower()\r\n",
        "df_hersheys['retweet'] = df_hersheys.tweet.str.startswith(\"rt\")\r\n",
        "df_hersheys['hashtags'] = df_hersheys.tweet.str.findall(r\"(?<=#)\\w+\")\r\n",
        "df_hersheys['mentions'] = df_hersheys.tweet.str.findall(\"(?<=@)\\w+\")\r\n",
        "df_hersheys['hashtag_count'] = df_hersheys.tweet.str.findall(\"(?<=#)\\w+\").str.len()\r\n",
        "df_hersheys['mention_count'] = df_hersheys.tweet.str.findall(\"(?<=@)\\w+\").str.len()\r\n",
        "df_hersheys['cleaned'] = df_hersheys['tweet']\r\n",
        "df_hersheys['hashtags'] = df_hersheys['hashtags'].apply(', '.join)\r\n",
        "df_hersheys['mentions'] = df_hersheys['mentions'].apply(', '.join)\r\n",
        "df_hersheys['cleaned'] = df_hersheys.cleaned.str.replace('http\\S+|www.\\S+', '')\r\n",
        "df_hersheys['cleaned'] = df_hersheys['cleaned'].str.replace(\"[^a-zA-Z]\", \" \")\r\n",
        "df_hersheys['cleaned'] = df_hersheys.cleaned.str.findall('\\w{3,}').str.join(' ')\r\n",
        "#df_hersheys['cleaned'] = df_hersheys.cleaned.apply(lambda x: ' '.join([word for word in x.split() if word not in (stopwords)]))"
      ],
      "execution_count": 14,
      "outputs": []
    },
    {
      "cell_type": "code",
      "metadata": {
        "colab": {
          "base_uri": "https://localhost:8080/"
        },
        "id": "zZYfHmFR3IAL",
        "outputId": "9c515b1a-a90e-41a5-8f18-4421e2627132"
      },
      "source": [
        "screen_name = \"mmschocolate\"\r\n",
        "\r\n",
        "def UserStatuses(): \r\n",
        "    fName = \"{}.json\".format(screen_name)\r\n",
        "    with open(fName, 'w') as f:\r\n",
        "        for tweet in tweepy.Cursor(api.user_timeline, screen_name).items():\r\n",
        "                f.write(jsonpickle.encode(tweet._json, unpicklable=False) + '\\n')\r\n",
        "                #print(tweet.text + '\\t' + str(tweet.created_at))\r\n",
        "        print(\"\\n\")\r\n",
        "        \r\n",
        "UserStatuses()"
      ],
      "execution_count": 15,
      "outputs": [
        {
          "output_type": "stream",
          "text": [
            "\n",
            "\n"
          ],
          "name": "stdout"
        }
      ]
    },
    {
      "cell_type": "code",
      "metadata": {
        "id": "qheHtBNN-M_L"
      },
      "source": [
        "# load data of tweets mentioning mmschocolate\r\n",
        "\r\n",
        "# create an empty list to store our tweets in\r\n",
        "data_mmschocolate = []\r\n",
        "\r\n",
        "# append each line of the data to our tweets list using the json module\r\n",
        "for line in open('mmschocolate.json'):\r\n",
        "    try:\r\n",
        "        data_mmschocolate.append(json.loads(line))\r\n",
        "    except:\r\n",
        "        pass\r\n"
      ],
      "execution_count": 16,
      "outputs": []
    },
    {
      "cell_type": "code",
      "metadata": {
        "id": "DkWvycSP-M_d"
      },
      "source": [
        "# saving the entire tweets in a CSV file\r\n",
        "\r\n",
        "texts = [ T['text'] for T in data_mmschocolate if 'text' in T ]\r\n",
        "\r\n",
        "# convert to list\r\n",
        "\r\n",
        "tweets = []\r\n",
        "for T in data_mmschocolate:\r\n",
        "    if 'text' in T:\r\n",
        "        tweets.append(T)\r\n",
        "\r\n",
        "# convert to dataframe\r\n",
        "\r\n",
        "times = [T['created_at'] for T in tweets]\r\n",
        "tweet = [T['text'] for T in tweets]\r\n",
        "screen_names = [T['user']['screen_name'] for T in tweets]\r\n",
        "\r\n",
        "# open an output csv file to write to\r\n",
        "out = open('mmschocolate_tweets.csv', 'w', encoding='UTF-8', newline='')\r\n",
        "\r\n",
        "# write the header of our CSV as its first line\r\n",
        "out.write('created_at,tweet,screen_name\\n')\r\n",
        "\r\n",
        "# merge each individual list into a single list using the zip function\r\n",
        "rows = list(zip(times, tweet, screen_names))\r\n",
        "\r\n",
        "# use the writer module on our csv file\r\n",
        "from csv import writer\r\n",
        "csv = writer(out)\r\n",
        "\r\n",
        "# use one value from each of our rows list and write it to the csv as a new row\r\n",
        "for row in rows:\r\n",
        "    values = [value for value in row]\r\n",
        "    csv.writerow(values)\r\n",
        "\r\n",
        "# close our csv file when done\r\n",
        "out.close()"
      ],
      "execution_count": 17,
      "outputs": []
    },
    {
      "cell_type": "code",
      "metadata": {
        "id": "4c1NzHi-8nrM"
      },
      "source": [
        "df_mmschocolate = pd.read_csv(\"mmschocolate_tweets.csv\")"
      ],
      "execution_count": 18,
      "outputs": []
    },
    {
      "cell_type": "code",
      "metadata": {
        "id": "j7mRjj4l3IAX"
      },
      "source": [
        "df_mmschocolate['tweet'] = df_mmschocolate.tweet.str.lower()\r\n",
        "df_mmschocolate['retweet'] = df_mmschocolate.tweet.str.startswith(\"rt\")\r\n",
        "df_mmschocolate['hashtags'] = df_mmschocolate.tweet.str.findall(r\"(?<=#)\\w+\")\r\n",
        "df_mmschocolate['mentions'] = df_mmschocolate.tweet.str.findall(\"(?<=@)\\w+\")\r\n",
        "df_mmschocolate['hashtag_count'] = df_mmschocolate.tweet.str.findall(\"(?<=#)\\w+\").str.len()\r\n",
        "df_mmschocolate['mention_count'] = df_mmschocolate.tweet.str.findall(\"(?<=@)\\w+\").str.len()\r\n",
        "df_mmschocolate['cleaned'] = df_mmschocolate['tweet']\r\n",
        "df_mmschocolate['hashtags'] = df_mmschocolate['hashtags'].apply(', '.join)\r\n",
        "df_mmschocolate['mentions'] = df_mmschocolate['mentions'].apply(', '.join)\r\n",
        "df_mmschocolate['cleaned'] = df_mmschocolate.cleaned.str.replace('http\\S+|www.\\S+', '')\r\n",
        "df_mmschocolate['cleaned'] = df_mmschocolate['cleaned'].str.replace(\"[^a-zA-Z]\", \" \")\r\n",
        "df_mmschocolate['cleaned'] = df_mmschocolate.cleaned.str.findall('\\w{3,}').str.join(' ')\r\n",
        "\r\n"
      ],
      "execution_count": 19,
      "outputs": []
    },
    {
      "cell_type": "markdown",
      "metadata": {
        "id": "P0ZSG3m6ZfQn"
      },
      "source": [
        "# Comparison between Cadbury, Hershey's and M&M's"
      ]
    },
    {
      "cell_type": "markdown",
      "metadata": {
        "id": "VcmeIB4vf_nJ"
      },
      "source": [
        "### Top 5 Tweets for Cadbury\r\n"
      ]
    },
    {
      "cell_type": "code",
      "metadata": {
        "colab": {
          "base_uri": "https://localhost:8080/"
        },
        "id": "pSx_q3WLWNR1",
        "outputId": "e1b3c3ed-f4d5-49ad-ab75-2cdcbfe74f49"
      },
      "source": [
        "screen_name = \"CadburyUK\" \r\n",
        "\r\n",
        "def TopTweets(): #Extract user top 5 tweets\r\n",
        "    timeline_file1 = '{}.json'.format(screen_name)\r\n",
        "    count = 0\r\n",
        "    tweets = []\r\n",
        "    with open(timeline_file1) as f1:\r\n",
        "        for line in f1:\r\n",
        "            tweet = json.loads(line)\r\n",
        "            tweets.append([tweet['text'], tweet['retweet_count'], tweet['favorite_count'], (tweet['retweet_count']+tweet['favorite_count'])])\r\n",
        "    \r\n",
        "        tweets = sorted(tweets, key=lambda x: x[3], reverse = True)\r\n",
        "            \r\n",
        "        for r in tweets:\r\n",
        "            if count < 5:\r\n",
        "                print(\"Tweet no.{}\".format(count+1))\r\n",
        "                cnt = 0\r\n",
        "                for c in r:\r\n",
        "                    if cnt == 0:\r\n",
        "                        print(c,end = \" \")\r\n",
        "                        cnt = cnt + 1\r\n",
        "                    elif cnt == 1:\r\n",
        "                        print(\"Retweet:\", c, end = \" \")\r\n",
        "                        cnt = cnt + 1\r\n",
        "                    elif cnt == 2:\r\n",
        "                        print(\"Favorite:\", c, end = \" \")\r\n",
        "                        cnt = cnt + 1\r\n",
        "                    elif cnt == 3:\r\n",
        "                        print(\"Total Engagement:\", c, end = \" \")\r\n",
        "                        cnt = cnt + 1\r\n",
        "                print('\\n')\r\n",
        "                count = count + 1\r\n",
        "\r\n",
        "TopTweets()"
      ],
      "execution_count": null,
      "outputs": [
        {
          "output_type": "stream",
          "text": [
            "Tweet no.1\n",
            "We're proud to announce our partnership with @LFC supporting young people &amp; families in the local community. We’re… https://t.co/CiwfQcz6XQ Retweet: 373 Favorite: 2736 Total Engagement: 3109 \n",
            "\n",
            "Tweet no.2\n",
            "We're proud to announce our partnership with @chelseafc, supporting the UK’s entrepreneurs and small businesses thr… https://t.co/1FxPUZ83H2 Retweet: 347 Favorite: 2738 Total Engagement: 3085 \n",
            "\n",
            "Tweet no.3\n",
            "@CelticFC @FoundationCFC COYBIG #CelticFC Retweet: 315 Favorite: 2591 Total Engagement: 2906 \n",
            "\n",
            "Tweet no.4\n",
            "The elusive Twirl Orange bars are back. To get one, follow the instructions... #TwirlOrangePresale https://t.co/6hyK4dVpWO Retweet: 552 Favorite: 2334 Total Engagement: 2886 \n",
            "\n",
            "Tweet no.5\n",
            "@RangersFC Ready to make a difference together 🤝 Retweet: 81 Favorite: 2441 Total Engagement: 2522 \n",
            "\n"
          ],
          "name": "stdout"
        }
      ]
    },
    {
      "cell_type": "markdown",
      "metadata": {
        "id": "wOjRi4W_32bx"
      },
      "source": [
        "### Top 5 Tweets for Hershey's\r\n"
      ]
    },
    {
      "cell_type": "code",
      "metadata": {
        "colab": {
          "base_uri": "https://localhost:8080/"
        },
        "id": "dUePXEvB32cB",
        "outputId": "0f61c368-4408-4b08-d36e-3eadfa4c5898"
      },
      "source": [
        "screen_name = \"hersheys\"\r\n",
        "\r\n",
        "def TopTweets(): #Extract user top 5 tweets\r\n",
        "    timeline_file1 = '{}.json'.format(screen_name)\r\n",
        "    count = 0\r\n",
        "    tweets = []\r\n",
        "    with open(timeline_file1) as f1:\r\n",
        "        for line in f1:\r\n",
        "            tweet = json.loads(line)\r\n",
        "            tweets.append([tweet['text'], tweet['retweet_count'], tweet['favorite_count'], (tweet['retweet_count']+tweet['favorite_count'])])\r\n",
        "    \r\n",
        "        tweets = sorted(tweets, key=lambda x: x[3], reverse = True)\r\n",
        "            \r\n",
        "        for r in tweets:\r\n",
        "            if count < 5:\r\n",
        "                print(\"Tweet no.{}\".format(count+1))\r\n",
        "                cnt = 0\r\n",
        "                for c in r:\r\n",
        "                    if cnt == 0:\r\n",
        "                        print(c,end = \" \")\r\n",
        "                        cnt = cnt + 1\r\n",
        "                    elif cnt == 1:\r\n",
        "                        print(\"Retweet:\", c, end = \" \")\r\n",
        "                        cnt = cnt + 1\r\n",
        "                    elif cnt == 2:\r\n",
        "                        print(\"Favorite:\", c, end = \" \")\r\n",
        "                        cnt = cnt + 1\r\n",
        "                    elif cnt == 3:\r\n",
        "                        print(\"Total Engagement:\", c, end = \" \")\r\n",
        "                        cnt = cnt + 1\r\n",
        "                print('\\n')\r\n",
        "                count = count + 1\r\n",
        "\r\n",
        "TopTweets()"
      ],
      "execution_count": null,
      "outputs": [
        {
          "output_type": "stream",
          "text": [
            "Tweet no.1\n",
            "You ❤️ emojis. Now you can 😋 them! And guess what? They taste like really delicious chocolate. The new Hershey’s Mi… https://t.co/rsiUmFQqKq Retweet: 832 Favorite: 3494 Total Engagement: 4326 \n",
            "\n",
            "Tweet no.2\n",
            "Am I a little obsessed with Gold? Oh Yes. #HersheysGold #TasteTheGold https://t.co/alpW1xwNKL Retweet: 263 Favorite: 1445 Total Engagement: 1708 \n",
            "\n",
            "Tweet no.3\n",
            "If it isn’t messy, it isn't a s'more. #NationalSmoresDay https://t.co/kOrLDTW26C Retweet: 352 Favorite: 1302 Total Engagement: 1654 \n",
            "\n",
            "Tweet no.4\n",
            "The best gifts come wrapped. #TasteTheGold https://t.co/vvvjEuWKvK Retweet: 191 Favorite: 1209 Total Engagement: 1400 \n",
            "\n",
            "Tweet no.5\n",
            "Just like Hershey’s and Reese’s Pieces, there’s nothing better than when the best get together. Catch @Ninja (… https://t.co/XeX0yJ6xay Retweet: 139 Favorite: 1199 Total Engagement: 1338 \n",
            "\n"
          ],
          "name": "stdout"
        }
      ]
    },
    {
      "cell_type": "markdown",
      "metadata": {
        "id": "sf6tElLy32sZ"
      },
      "source": [
        "### Top 5 Tweets for M&M'S\r\n"
      ]
    },
    {
      "cell_type": "code",
      "metadata": {
        "colab": {
          "base_uri": "https://localhost:8080/"
        },
        "id": "6XkOnSKG32sZ",
        "outputId": "e00cd32a-8a7a-43c7-8f17-5e26157d6e66"
      },
      "source": [
        "screen_name = \"mmschocolate\" \r\n",
        "\r\n",
        "def TopTweets(): #Extract user top 5 tweets\r\n",
        "    timeline_file1 = '{}.json'.format(screen_name)\r\n",
        "    count = 0\r\n",
        "    tweets = []\r\n",
        "    with open(timeline_file1) as f1:\r\n",
        "        for line in f1:\r\n",
        "            tweet = json.loads(line)\r\n",
        "            tweets.append([tweet['text'], tweet['retweet_count'], tweet['favorite_count'], (tweet['retweet_count']+tweet['favorite_count'])])\r\n",
        "    \r\n",
        "        tweets = sorted(tweets, key=lambda x: x[3], reverse = True)\r\n",
        "            \r\n",
        "        for r in tweets:\r\n",
        "            if count < 5:\r\n",
        "                print(\"Tweet no.{}\".format(count+1))\r\n",
        "                cnt = 0\r\n",
        "                for c in r:\r\n",
        "                    if cnt == 0:\r\n",
        "                        print(c,end = \" \")\r\n",
        "                        cnt = cnt + 1\r\n",
        "                    elif cnt == 1:\r\n",
        "                        print(\"Retweet:\", c, end = \" \")\r\n",
        "                        cnt = cnt + 1\r\n",
        "                    elif cnt == 2:\r\n",
        "                        print(\"Favorite:\", c, end = \" \")\r\n",
        "                        cnt = cnt + 1\r\n",
        "                    elif cnt == 3:\r\n",
        "                        print(\"Total Engagement:\", c, end = \" \")\r\n",
        "                        cnt = cnt + 1\r\n",
        "                print('\\n')\r\n",
        "                count = count + 1\r\n",
        "\r\n",
        "TopTweets()"
      ],
      "execution_count": null,
      "outputs": [
        {
          "output_type": "stream",
          "text": [
            "Tweet no.1\n",
            "*BLOCKS CALENDAR FOR APRIL NINTH* Retweet: 1617 Favorite: 8880 Total Engagement: 10497 \n",
            "\n",
            "Tweet no.2\n",
            "#Sweepstakes That’s right, your favorite cookie sandwich just got better with two new flavors! Reply with… https://t.co/ZO94tHKd7B Retweet: 338 Favorite: 1213 Total Engagement: 1551 \n",
            "\n",
            "Tweet no.3\n",
            "#Sweepstakes Some moments in life would be better if you had a pack of M&amp;M’S. Share your funny stories &amp; tag a frie… https://t.co/ikut466GOv Retweet: 304 Favorite: 929 Total Engagement: 1233 \n",
            "\n",
            "Tweet no.4\n",
            "What if we put mini M&amp;M'S inside M&amp;M'S... 🤯 Retweet: 109 Favorite: 1023 Total Engagement: 1132 \n",
            "\n",
            "Tweet no.5\n",
            "@danjlevy caught red-handed 😳 https://t.co/5izptwFJxt Retweet: 44 Favorite: 697 Total Engagement: 741 \n",
            "\n"
          ],
          "name": "stdout"
        }
      ]
    },
    {
      "cell_type": "markdown",
      "metadata": {
        "id": "ITXVPfzRQExY"
      },
      "source": [
        "### Top 5 Hashtags with the Highest Engagement (Cadbury)"
      ]
    },
    {
      "cell_type": "code",
      "metadata": {
        "colab": {
          "base_uri": "https://localhost:8080/"
        },
        "id": "ri-vlCx8S6Pr",
        "outputId": "2e7c95c5-f863-4c4b-cf53-c7d947a5536f"
      },
      "source": [
        "screen_name = \"CadburyUK\" \r\n",
        "\r\n",
        "\r\n",
        "def Hashtag(): #Extract user top 5 Hashtags\r\n",
        "    def get_hashtags(tweet):\r\n",
        "        entities = tweet.get('entities', {})\r\n",
        "        hashtags = entities.get('hashtags', [])\r\n",
        "        return [tag['text'].lower() for tag in hashtags]\r\n",
        "\r\n",
        "    total=0\r\n",
        "    fName = \"{}.json\".format(screen_name)\r\n",
        "    tweets = []\r\n",
        "    with open(fName, 'r') as f:\r\n",
        "        for line in f:\r\n",
        "            tweet = json.loads(line)\r\n",
        "            if ((get_hashtags(tweet) != []) and (tweet.get('in_reply_to_status_id') is None) and (tweet.get('retweeted_status') is None)):                \r\n",
        "                tweets.append([get_hashtags(tweet), (tweet['retweet_count'] + tweet['favorite_count'])])\r\n",
        "        #for a in tweets:\r\n",
        "        df = pd.DataFrame(tweets, columns = ['Hashtags', 'Total'])\r\n",
        "        df['Hashtags'] = df['Hashtags'].astype(str).str.replace('[','')\r\n",
        "        df['Hashtags'] = df['Hashtags'].astype(str).str.replace(']','')\r\n",
        "        df['Hashtags'] = df['Hashtags'].astype(str).str.replace(\"'\",'')\r\n",
        "        df= df.groupby(['Hashtags']).sum().sort_values(by=['Total'], ascending = False)[:6]\r\n",
        "        #df = df.reset_index()\r\n",
        "        df = df.drop(df.index[[0]])\r\n",
        "        #print(df)\r\n",
        "        ax = df\r\n",
        "        ax = ax.sort_values('Total',ascending=False)[:5].plot(kind='barh' , fontsize=13)\r\n",
        "        plt.xticks(rotation=0)\r\n",
        "        plt.suptitle(\"Top 5 Hashtags with the Highest Engagement\", fontsize=15)\r\n",
        "        plt.ylabel(\"Hashtags\")\r\n",
        "        plt.xlabel(\"Total Engagement\")\r\n",
        "        plt.show()\r\n",
        "\r\n",
        "        \r\n",
        "        a = df.to_numpy()\r\n",
        "\r\n",
        "Hashtag()"
      ],
      "execution_count": null,
      "outputs": [
        {
          "output_type": "display_data",
          "data": {
            "image/png": "[encoded data removed]",
            "text/plain": [
              "<Figure size 432x288 with 1 Axes>"
            ]
          },
          "metadata": {
            "tags": [],
            "needs_background": "light"
          }
        }
      ]
    },
    {
      "cell_type": "markdown",
      "metadata": {
        "id": "zbRgwEY446A6"
      },
      "source": [
        "### Top 5 Hashtags with the Highest Engagement (Hershey's)"
      ]
    },
    {
      "cell_type": "code",
      "metadata": {
        "colab": {
          "base_uri": "https://localhost:8080/"
        },
        "id": "3qFbS2_w46BK",
        "outputId": "cf20bfc0-49f6-4473-ec00-f8170e0cf367"
      },
      "source": [
        "screen_name = \"hersheys\" \r\n",
        "\r\n",
        "\r\n",
        "def Hashtag(): #Extract user top 5 Hashtags\r\n",
        "    def get_hashtags(tweet):\r\n",
        "        entities = tweet.get('entities', {})\r\n",
        "        hashtags = entities.get('hashtags', [])\r\n",
        "        return [tag['text'].lower() for tag in hashtags]\r\n",
        "\r\n",
        "    total=0\r\n",
        "    fName = \"{}.json\".format(screen_name)\r\n",
        "    tweets = []\r\n",
        "    with open(fName, 'r') as f:\r\n",
        "        for line in f:\r\n",
        "            tweet = json.loads(line)\r\n",
        "            if ((get_hashtags(tweet) != []) and (tweet.get('in_reply_to_status_id') is None) and (tweet.get('retweeted_status') is None)):                \r\n",
        "                tweets.append([get_hashtags(tweet), (tweet['retweet_count'] + tweet['favorite_count'])])\r\n",
        "        #for a in tweets:\r\n",
        "        df = pd.DataFrame(tweets, columns = ['Hashtags', 'Total'])\r\n",
        "        df['Hashtags'] = df['Hashtags'].astype(str).str.replace('[','')\r\n",
        "        df['Hashtags'] = df['Hashtags'].astype(str).str.replace(']','')\r\n",
        "        df['Hashtags'] = df['Hashtags'].astype(str).str.replace(\"'\",'')\r\n",
        "        df= df.groupby(['Hashtags']).sum().sort_values(by=['Total'], ascending = False)[:6]\r\n",
        "        #df = df.reset_index()\r\n",
        "        df = df.drop(df.index[[0]])\r\n",
        "        #print(df)\r\n",
        "        ax = df\r\n",
        "        ax = ax.sort_values('Total',ascending=False)[:5].plot(kind='barh' , fontsize=13)\r\n",
        "        plt.xticks(rotation=0)\r\n",
        "        plt.suptitle(\"Top 5 Hashtags with the Highest Engagement\", fontsize=15)\r\n",
        "        plt.ylabel(\"Hashtags\")\r\n",
        "        plt.xlabel(\"Total Engagement\")\r\n",
        "        plt.show()\r\n",
        "\r\n",
        "        \r\n",
        "        a = df.to_numpy()\r\n",
        "\r\n",
        "Hashtag()"
      ],
      "execution_count": null,
      "outputs": [
        {
          "output_type": "display_data",
          "data": {
            "image/png": "[encoded data removed]",
            "text/plain": [
              "<Figure size 432x288 with 1 Axes>"
            ]
          },
          "metadata": {
            "tags": [],
            "needs_background": "light"
          }
        }
      ]
    },
    {
      "cell_type": "markdown",
      "metadata": {
        "id": "_73pI_Qp46Q2"
      },
      "source": [
        "### Top 5 Hashtags with the Highest Engagement (M&M'S)"
      ]
    },
    {
      "cell_type": "code",
      "metadata": {
        "colab": {
          "base_uri": "https://localhost:8080/"
        },
        "id": "oOyfT84W46Q2",
        "outputId": "055a3284-077e-4311-cedd-816dc21dddd0"
      },
      "source": [
        "screen_name = \"mmschocolate\" \r\n",
        "\r\n",
        "\r\n",
        "def Hashtag(): #Extract user top 5 Hashtags\r\n",
        "    def get_hashtags(tweet):\r\n",
        "        entities = tweet.get('entities', {})\r\n",
        "        hashtags = entities.get('hashtags', [])\r\n",
        "        return [tag['text'].lower() for tag in hashtags]\r\n",
        "\r\n",
        "    total=0\r\n",
        "    fName = \"{}.json\".format(screen_name)\r\n",
        "    tweets = []\r\n",
        "    with open(fName, 'r') as f:\r\n",
        "        for line in f:\r\n",
        "            tweet = json.loads(line)\r\n",
        "            if ((get_hashtags(tweet) != []) and (tweet.get('in_reply_to_status_id') is None) and (tweet.get('retweeted_status') is None)):                \r\n",
        "                tweets.append([get_hashtags(tweet), (tweet['retweet_count'] + tweet['favorite_count'])])\r\n",
        "        #for a in tweets:\r\n",
        "        df = pd.DataFrame(tweets, columns = ['Hashtags', 'Total'])\r\n",
        "        df['Hashtags'] = df['Hashtags'].astype(str).str.replace('[','')\r\n",
        "        df['Hashtags'] = df['Hashtags'].astype(str).str.replace(']','')\r\n",
        "        df['Hashtags'] = df['Hashtags'].astype(str).str.replace(\"'\",'')\r\n",
        "        df= df.groupby(['Hashtags']).sum().sort_values(by=['Total'], ascending = False)[:6]\r\n",
        "        #df = df.reset_index()\r\n",
        "        df = df.drop(df.index[[0]])\r\n",
        "        #print(df)\r\n",
        "        ax = df\r\n",
        "        ax = ax.sort_values('Total',ascending=False)[:5].plot(kind='barh' , fontsize=13)\r\n",
        "        plt.xticks(rotation=0)\r\n",
        "        plt.suptitle(\"Top 5 Hashtags with the Highest Engagement\", fontsize=15)\r\n",
        "        plt.ylabel(\"Hashtags\")\r\n",
        "        plt.xlabel(\"Total Engagement\")\r\n",
        "        plt.show()\r\n",
        "\r\n",
        "        \r\n",
        "        a = df.to_numpy()\r\n",
        "\r\n",
        "Hashtag()"
      ],
      "execution_count": null,
      "outputs": [
        {
          "output_type": "display_data",
          "data": {
            "image/png": "[encoded data removed]",
            "text/plain": [
              "<Figure size 432x288 with 1 Axes>"
            ]
          },
          "metadata": {
            "tags": [],
            "needs_background": "light"
          }
        }
      ]
    },
    {
      "cell_type": "markdown",
      "metadata": {
        "id": "U1ze2mh1Z4Wl"
      },
      "source": [
        "### Top 5 Hashtags used by Cadbury"
      ]
    },
    {
      "cell_type": "code",
      "metadata": {
        "colab": {
          "base_uri": "https://localhost:8080/"
        },
        "id": "8voJ-hIEF0lN",
        "outputId": "55d95f46-0c61-4985-baa0-55d8f83efe07"
      },
      "source": [
        "# find out the popular hashtags used\r\n",
        "\r\n",
        "screen_name = \"CadburyUK\" \r\n",
        "\r\n",
        "cadbury_hashtags = df_cadbury['hashtags'].value_counts().reset_index()\r\n",
        "cadbury_hashtags = cadbury_hashtags.rename(columns={'index': 'hashtags', 'hashtags': 'count'})\r\n",
        "cadbury_hashtags = cadbury_hashtags.drop(cadbury_hashtags.index[[0]])\r\n",
        "cadbury_hashtags = cadbury_hashtags.set_index('hashtags')\r\n",
        "ax = cadbury_hashtags\r\n",
        "ax = ax.sort_values('count',ascending=False)[:5].plot(kind='barh' , fontsize=13)\r\n",
        "plt.xticks(rotation=0)\r\n",
        "plt.suptitle(\"Top 5 Hashtags Used By Cadbury\", fontsize=15)\r\n",
        "plt.ylabel(\"Hashtags\")\r\n",
        "plt.xlabel(\"Number of Hashtags\")\r\n",
        "plt.show()\r\n",
        "#fig = ax.get_figure()\r\n",
        "#fig.savefig(\"images/Top 5 Hashtags Used By Cadbury.png\", bbox_inches='tight')\r\n",
        "\r\n"
      ],
      "execution_count": null,
      "outputs": [
        {
          "output_type": "display_data",
          "data": {
            "image/png": "[encoded data removed]",
            "text/plain": [
              "<Figure size 432x288 with 1 Axes>"
            ]
          },
          "metadata": {
            "tags": [],
            "needs_background": "light"
          }
        }
      ]
    },
    {
      "cell_type": "markdown",
      "metadata": {
        "id": "XOp8cbOV5r0O"
      },
      "source": [
        "### Top 5 Hashtags used by Hershey's"
      ]
    },
    {
      "cell_type": "code",
      "metadata": {
        "colab": {
          "base_uri": "https://localhost:8080/"
        },
        "id": "tM3SQnTO5r0T",
        "outputId": "3ce75eca-c4bc-48aa-ee92-e6cb93a285bb"
      },
      "source": [
        "# find out the popular hashtags used\r\n",
        "\r\n",
        "screen_name = \"hersheys\" \r\n",
        "\r\n",
        "hersheys_hashtags = df_hersheys['hashtags'].value_counts().reset_index()\r\n",
        "hersheys_hashtags = hersheys_hashtags.rename(columns={'index': 'hashtags', 'hashtags': 'count'})\r\n",
        "hersheys_hashtags = hersheys_hashtags.drop(hersheys_hashtags.index[[0]])\r\n",
        "hersheys_hashtags = hersheys_hashtags.set_index('hashtags')\r\n",
        "ax = hersheys_hashtags\r\n",
        "ax = ax.sort_values('count',ascending=False)[:5].plot(kind='barh' , fontsize=13)\r\n",
        "plt.xticks(rotation=0)\r\n",
        "plt.suptitle(\"Top 5 Hashtags Used By hersheys\", fontsize=15)\r\n",
        "plt.ylabel(\"Hashtags\")\r\n",
        "plt.xlabel(\"Number of Hashtags\")\r\n",
        "plt.show()\r\n",
        "#fig = ax.get_figure()\r\n",
        "#fig.savefig(\"images/Top 5 Hashtags Used By hersheys.png\", bbox_inches='tight')\r\n",
        "\r\n"
      ],
      "execution_count": null,
      "outputs": [
        {
          "output_type": "display_data",
          "data": {
            "image/png": "[encoded data removed]",
            "text/plain": [
              "<Figure size 432x288 with 1 Axes>"
            ]
          },
          "metadata": {
            "tags": [],
            "needs_background": "light"
          }
        }
      ]
    },
    {
      "cell_type": "markdown",
      "metadata": {
        "id": "l3KZTfWa5sAb"
      },
      "source": [
        "### Top 5 Hashtags used by M&M'S"
      ]
    },
    {
      "cell_type": "code",
      "metadata": {
        "colab": {
          "base_uri": "https://localhost:8080/"
        },
        "id": "giU8iIk95sAc",
        "outputId": "7105a092-4f3f-4598-e1a8-67cee1b3f3a0"
      },
      "source": [
        "# find out the popular hashtags used\r\n",
        "\r\n",
        "screen_name = \"mmschocolate\" \r\n",
        "\r\n",
        "mmschocolate_hashtags = df_mmschocolate['hashtags'].value_counts().reset_index()\r\n",
        "mmschocolate_hashtags = mmschocolate_hashtags.rename(columns={'index': 'hashtags', 'hashtags': 'count'})\r\n",
        "mmschocolate_hashtags = mmschocolate_hashtags.drop(mmschocolate_hashtags.index[[0]])\r\n",
        "mmschocolate_hashtags = mmschocolate_hashtags.set_index('hashtags')\r\n",
        "ax = mmschocolate_hashtags\r\n",
        "ax = ax.sort_values('count',ascending=False)[:5].plot(kind='barh' , fontsize=13)\r\n",
        "plt.xticks(rotation=0)\r\n",
        "plt.suptitle(\"Top 5 Hashtags Used By mmschocolate\", fontsize=15)\r\n",
        "plt.ylabel(\"Hashtags\")\r\n",
        "plt.xlabel(\"Number of Hashtags\")\r\n",
        "plt.show()\r\n",
        "#fig = ax.get_figure()\r\n",
        "#fig.savefig(\"images/Top 5 Hashtags Used By mmschocolate.png\", bbox_inches='tight')\r\n",
        "\r\n"
      ],
      "execution_count": null,
      "outputs": [
        {
          "output_type": "display_data",
          "data": {
            "image/png": "[encoded data removed]",
            "text/plain": [
              "<Figure size 432x288 with 1 Axes>"
            ]
          },
          "metadata": {
            "tags": [],
            "needs_background": "light"
          }
        }
      ]
    },
    {
      "cell_type": "markdown",
      "metadata": {
        "id": "oTq8PR2gRB6Z"
      },
      "source": [
        "### Top 5 Mentions with Highest Engagement (Cadbury)"
      ]
    },
    {
      "cell_type": "code",
      "metadata": {
        "colab": {
          "base_uri": "https://localhost:8080/"
        },
        "id": "MONC-xflRJU2",
        "outputId": "c0d32794-f612-4b1a-b1fe-a0a8d50807f3"
      },
      "source": [
        "screen_name = \"CadburyUK\" \r\n",
        "\r\n",
        "\r\n",
        "def Mentions(): #Extract user top 5 mentions\r\n",
        "    def get_mentions(tweet):\r\n",
        "        entities = tweet.get('entities', {})\r\n",
        "        mentions = entities.get('user_mentions', [])\r\n",
        "        return [tag['screen_name'] for tag in mentions]\r\n",
        "\r\n",
        "    total=0\r\n",
        "    fName = \"{}.json\".format(screen_name)\r\n",
        "    tweets = []\r\n",
        "    with open(fName, 'r') as f:\r\n",
        "        for line in f:\r\n",
        "            tweet = json.loads(line)\r\n",
        "            if ((get_mentions(tweet) != []) and (tweet.get('retweeted_status') is None)):                \r\n",
        "                tweets.append([tweet['text'], get_mentions(tweet), (tweet['retweet_count'] + tweet['favorite_count'])])\r\n",
        "\r\n",
        "        #for a in tweets:\r\n",
        "        df = pd.DataFrame(tweets, columns = ['Text','Mentions', 'Total'])\r\n",
        "        del df['Text']\r\n",
        "        df['Mentions'] = df['Mentions'].astype(str).str.replace('[','')\r\n",
        "        df['Mentions'] = df['Mentions'].astype(str).str.replace(']','')\r\n",
        "        df['Mentions'] = df['Mentions'].astype(str).str.replace(\"'\",'')\r\n",
        "        df= df.groupby(['Mentions']).sum().sort_values(by=['Total'], ascending = False)[:5]\r\n",
        "        #print(df)\r\n",
        "\r\n",
        "        ax = df\r\n",
        "        ax = ax.sort_values('Total',ascending=False)[:5].plot(kind='barh' , fontsize=13)\r\n",
        "        plt.xticks(rotation=0)\r\n",
        "        plt.suptitle(\"Top 5 Mentions with the Highest Engagement\", fontsize=15)\r\n",
        "        plt.ylabel(\"Mentions\")\r\n",
        "        plt.xlabel(\"Total Engagement\")\r\n",
        "        plt.show()\r\n",
        "\r\n",
        "Mentions()"
      ],
      "execution_count": null,
      "outputs": [
        {
          "output_type": "display_data",
          "data": {
            "image/png": "[encoded data removed]",
            "text/plain": [
              "<Figure size 432x288 with 1 Axes>"
            ]
          },
          "metadata": {
            "tags": [],
            "needs_background": "light"
          }
        }
      ]
    },
    {
      "cell_type": "markdown",
      "metadata": {
        "id": "YjFct6Rf6mwK"
      },
      "source": [
        "### Top 5 Mentions with Highest Engagement (Hershey's)"
      ]
    },
    {
      "cell_type": "code",
      "metadata": {
        "colab": {
          "base_uri": "https://localhost:8080/"
        },
        "id": "CAlRD0NF6mwb",
        "outputId": "be92e4a5-18f9-4d82-b94e-19d66ce8f21a"
      },
      "source": [
        "screen_name = \"hersheys\" \r\n",
        "\r\n",
        "\r\n",
        "def Mentions(): #Extract user top 5 mentions\r\n",
        "    def get_mentions(tweet):\r\n",
        "        entities = tweet.get('entities', {})\r\n",
        "        mentions = entities.get('user_mentions', [])\r\n",
        "        return [tag['screen_name'] for tag in mentions]\r\n",
        "\r\n",
        "    total=0\r\n",
        "    fName = \"{}.json\".format(screen_name)\r\n",
        "    tweets = []\r\n",
        "    with open(fName, 'r') as f:\r\n",
        "        for line in f:\r\n",
        "            tweet = json.loads(line)\r\n",
        "            if ((get_mentions(tweet) != []) and (tweet.get('retweeted_status') is None)):                \r\n",
        "                tweets.append([tweet['text'], get_mentions(tweet), (tweet['retweet_count'] + tweet['favorite_count'])])\r\n",
        "\r\n",
        "        #for a in tweets:\r\n",
        "        df = pd.DataFrame(tweets, columns = ['Text','Mentions', 'Total'])\r\n",
        "        del df['Text']\r\n",
        "        df['Mentions'] = df['Mentions'].astype(str).str.replace('[','')\r\n",
        "        df['Mentions'] = df['Mentions'].astype(str).str.replace(']','')\r\n",
        "        df['Mentions'] = df['Mentions'].astype(str).str.replace(\"'\",'')\r\n",
        "        df= df.groupby(['Mentions']).sum().sort_values(by=['Total'], ascending = False)[:5]\r\n",
        "        #print(df)\r\n",
        "\r\n",
        "        ax = df\r\n",
        "        ax = ax.sort_values('Total',ascending=False)[:5].plot(kind='barh' , fontsize=13)\r\n",
        "        plt.xticks(rotation=0)\r\n",
        "        plt.suptitle(\"Top 5 Mentions with the Highest Engagement\", fontsize=15)\r\n",
        "        plt.ylabel(\"Mentions\")\r\n",
        "        plt.xlabel(\"Total Engagement\")\r\n",
        "        plt.show()\r\n",
        "\r\n",
        "Mentions()"
      ],
      "execution_count": null,
      "outputs": [
        {
          "output_type": "display_data",
          "data": {
            "image/png": "[encoded data removed]",
            "text/plain": [
              "<Figure size 432x288 with 1 Axes>"
            ]
          },
          "metadata": {
            "tags": [],
            "needs_background": "light"
          }
        }
      ]
    },
    {
      "cell_type": "markdown",
      "metadata": {
        "id": "ZfRz5tzd6m1J"
      },
      "source": [
        "### Top 5 Mentions with Highest Engagement (M&M'S)"
      ]
    },
    {
      "cell_type": "code",
      "metadata": {
        "colab": {
          "base_uri": "https://localhost:8080/"
        },
        "id": "Cw-J9KXr6m1K",
        "outputId": "7d0c52f5-e415-40ad-f813-f98d0d871400"
      },
      "source": [
        "screen_name = \"mmschocolate\" \r\n",
        "\r\n",
        "\r\n",
        "def Mentions(): #Extract user top 5 mentions\r\n",
        "    def get_mentions(tweet):\r\n",
        "        entities = tweet.get('entities', {})\r\n",
        "        mentions = entities.get('user_mentions', [])\r\n",
        "        return [tag['screen_name'] for tag in mentions]\r\n",
        "\r\n",
        "    total=0\r\n",
        "    fName = \"{}.json\".format(screen_name)\r\n",
        "    tweets = []\r\n",
        "    with open(fName, 'r') as f:\r\n",
        "        for line in f:\r\n",
        "            tweet = json.loads(line)\r\n",
        "            if ((get_mentions(tweet) != []) and (tweet.get('retweeted_status') is None)):                \r\n",
        "                tweets.append([tweet['text'], get_mentions(tweet), (tweet['retweet_count'] + tweet['favorite_count'])])\r\n",
        "\r\n",
        "        #for a in tweets:\r\n",
        "        df = pd.DataFrame(tweets, columns = ['Text','Mentions', 'Total'])\r\n",
        "        del df['Text']\r\n",
        "        df['Mentions'] = df['Mentions'].astype(str).str.replace('[','')\r\n",
        "        df['Mentions'] = df['Mentions'].astype(str).str.replace(']','')\r\n",
        "        df['Mentions'] = df['Mentions'].astype(str).str.replace(\"'\",'')\r\n",
        "        df= df.groupby(['Mentions']).sum().sort_values(by=['Total'], ascending = False)[:5]\r\n",
        "        #print(df)\r\n",
        "\r\n",
        "        ax = df\r\n",
        "        ax = ax.sort_values('Total',ascending=False)[:5].plot(kind='barh' , fontsize=13)\r\n",
        "        plt.xticks(rotation=0)\r\n",
        "        plt.suptitle(\"Top 5 Mentions with the Highest Engagement\", fontsize=15)\r\n",
        "        plt.ylabel(\"Mentions\")\r\n",
        "        plt.xlabel(\"Total Engagement\")\r\n",
        "        plt.show()\r\n",
        "\r\n",
        "Mentions()"
      ],
      "execution_count": null,
      "outputs": [
        {
          "output_type": "display_data",
          "data": {
            "image/png": "[encoded data removed]",
            "text/plain": [
              "<Figure size 432x288 with 1 Axes>"
            ]
          },
          "metadata": {
            "tags": [],
            "needs_background": "light"
          }
        }
      ]
    },
    {
      "cell_type": "markdown",
      "metadata": {
        "id": "bpVvGIindhWd"
      },
      "source": [
        "### Average Engagement Rate (Cadbury)"
      ]
    },
    {
      "cell_type": "code",
      "metadata": {
        "colab": {
          "base_uri": "https://localhost:8080/"
        },
        "id": "hcKBmXPmcPua",
        "outputId": "bfa8ecc7-028a-464f-a0da-681eb3bfa1e7"
      },
      "source": [
        "screen_name = \"CadburyUK\" \r\n",
        "\r\n",
        "\r\n",
        "def Avg_Engagement(): #Get the user average engagement for every tweet\r\n",
        "    fName = \"{}.json\".format(screen_name)\r\n",
        "    total_Engagement = 0\r\n",
        "    total_Tweets = 0\r\n",
        "    with open(fName, 'r') as f:\r\n",
        "        for line in f:\r\n",
        "            tweet = json.loads(line)\r\n",
        "            if ((tweet.get('in_reply_to_status_id') is None) and (tweet.get('retweeted_status') is None)): \r\n",
        "                total_Tweets = total_Tweets + 1\r\n",
        "                total_Engagement = total_Engagement + (tweet['retweet_count'] + tweet['favorite_count'])\r\n",
        "        print(\"Total Retweet:\",total_Engagement)\r\n",
        "        print(\"Total Favorite:\",total_Tweets)\r\n",
        "        average_Engagement_Cadbury = (total_Engagement/ total_Tweets)\r\n",
        "        print(\"Average Engagement on a tweet:\",average_Engagement_Cadbury)\r\n",
        "\r\n",
        "Avg_Engagement()"
      ],
      "execution_count": 20,
      "outputs": [
        {
          "output_type": "stream",
          "text": [
            "Total Retweet: 34313\n",
            "Total Favorite: 117\n",
            "Average Engagement on a tweet: 293.2735042735043\n"
          ],
          "name": "stdout"
        }
      ]
    },
    {
      "cell_type": "markdown",
      "metadata": {
        "id": "A-XMNk0JdspU"
      },
      "source": [
        "### Average Engagement Rate (Hershey's)"
      ]
    },
    {
      "cell_type": "code",
      "metadata": {
        "colab": {
          "base_uri": "https://localhost:8080/"
        },
        "id": "8haLlaIrcP0Y",
        "outputId": "c5339135-5a53-49d4-9880-a5f903fe0fcb"
      },
      "source": [
        "screen_name = \"hersheys\" \r\n",
        "\r\n",
        "\r\n",
        "def Avg_Engagement(): #Get the user average engagement for every tweet\r\n",
        "    fName = \"{}.json\".format(screen_name)\r\n",
        "    total_Engagement = 0\r\n",
        "    total_Tweets = 0\r\n",
        "    with open(fName, 'r') as f:\r\n",
        "        for line in f:\r\n",
        "            tweet = json.loads(line)\r\n",
        "            if ((tweet.get('in_reply_to_status_id') is None) and (tweet.get('retweeted_status') is None)): \r\n",
        "                total_Tweets = total_Tweets + 1\r\n",
        "                total_Engagement = total_Engagement + (tweet['retweet_count'] + tweet['favorite_count'])\r\n",
        "        print(\"Total Retweet:\",total_Engagement)\r\n",
        "        print(\"Total Favorite:\",total_Tweets)\r\n",
        "        average_Engagement_hersheys = (total_Engagement/ total_Tweets)\r\n",
        "        print(\"Average Engagement on a tweet:\",average_Engagement_hersheys)\r\n",
        "\r\n",
        "Avg_Engagement()"
      ],
      "execution_count": 21,
      "outputs": [
        {
          "output_type": "stream",
          "text": [
            "Total Retweet: 41812\n",
            "Total Favorite: 409\n",
            "Average Engagement on a tweet: 102.22982885085574\n"
          ],
          "name": "stdout"
        }
      ]
    },
    {
      "cell_type": "markdown",
      "metadata": {
        "id": "3v9BODRYdsyz"
      },
      "source": [
        "### Average Engagement Rate (M&M'S)"
      ]
    },
    {
      "cell_type": "code",
      "metadata": {
        "colab": {
          "base_uri": "https://localhost:8080/"
        },
        "id": "gLKQ-ez9WrN_",
        "outputId": "6e2d4af0-e0ce-4a63-e2cf-59eee383a0c7"
      },
      "source": [
        "screen_name = \"mmschocolate\" \r\n",
        "\r\n",
        "\r\n",
        "def Avg_Engagement(): #Get the user average engagement for every tweet\r\n",
        "    fName = \"{}.json\".format(screen_name)\r\n",
        "    total_Engagement = 0\r\n",
        "    total_Tweets = 0\r\n",
        "    with open(fName, 'r') as f:\r\n",
        "        for line in f:\r\n",
        "            tweet = json.loads(line)\r\n",
        "            if ((tweet.get('in_reply_to_status_id') is None) and (tweet.get('retweeted_status') is None)): \r\n",
        "                total_Tweets = total_Tweets + 1\r\n",
        "                total_Engagement = total_Engagement + (tweet['retweet_count'] + tweet['favorite_count'])\r\n",
        "        print(\"Total Retweet:\",total_Engagement)\r\n",
        "        print(\"Total Favorite:\",total_Tweets)\r\n",
        "        average_Engagement_mmschocolate = (total_Engagement/ total_Tweets)\r\n",
        "        print(\"Average Engagement on a tweet:\",average_Engagement_mmschocolate)\r\n",
        "\r\n",
        "Avg_Engagement()"
      ],
      "execution_count": null,
      "outputs": [
        {
          "output_type": "stream",
          "text": [
            "Total Retweet: 20929\n",
            "Total Favorite: 32\n",
            "Average Engagement on a tweet: 654.03125\n"
          ],
          "name": "stdout"
        }
      ]
    },
    {
      "cell_type": "markdown",
      "metadata": {
        "id": "WtefmKBarC9M"
      },
      "source": [
        "### Tweet Activity of Cadbury"
      ]
    },
    {
      "cell_type": "code",
      "metadata": {
        "colab": {
          "base_uri": "https://localhost:8080/"
        },
        "id": "LqhXoizlrKI3",
        "outputId": "851396a1-017d-45ed-ac76-94137fe85a74"
      },
      "source": [
        "# time series by day\r\n",
        "df_cadbury1 = df_cadbury\r\n",
        "df_cadbury1['time'] = pd.to_datetime(df_cadbury1['created_at'])\r\n",
        "cadbury_time = df_cadbury1.set_index(['time'])\r\n",
        "\r\n",
        "# create function to count number of tweets \r\n",
        "\r\n",
        "\r\n",
        "cadbury_month = cadbury_time.resample('M').size()\r\n",
        "ax = cadbury_month.plot()\r\n",
        "plt.suptitle(\"Tweet Activity\", fontsize=15)\r\n",
        "plt.xlabel(\"Month\")\r\n",
        "plt.ylabel(\"Frequency\")\r\n",
        "plt.show()\r\n",
        "fig = ax.get_figure()"
      ],
      "execution_count": null,
      "outputs": [
        {
          "output_type": "display_data",
          "data": {
            "image/png": "[encoded data removed]",
            "text/plain": [
              "<Figure size 432x288 with 1 Axes>"
            ]
          },
          "metadata": {
            "tags": [],
            "needs_background": "light"
          }
        }
      ]
    },
    {
      "cell_type": "markdown",
      "metadata": {
        "id": "780OAShB7FxY"
      },
      "source": [
        "### Tweet Activity of Hershey's"
      ]
    },
    {
      "cell_type": "code",
      "metadata": {
        "colab": {
          "base_uri": "https://localhost:8080/"
        },
        "id": "NRYxa-Ld7FxZ",
        "outputId": "537fb63e-91e2-438f-8bdd-48d45f4e4f65"
      },
      "source": [
        "# time series by day\r\n",
        "df_hersheys1 = df_hersheys\r\n",
        "df_hersheys1['time'] = pd.to_datetime(df_hersheys1['created_at'])\r\n",
        "hersheys_time = df_hersheys1.set_index(['time'])\r\n",
        "\r\n",
        "# create function to count number of tweets \r\n",
        "\r\n",
        "\r\n",
        "hersheys_month = hersheys_time.resample('M').size()\r\n",
        "ax = hersheys_month.plot()\r\n",
        "plt.suptitle(\"Tweet Activity\", fontsize=15)\r\n",
        "plt.xlabel(\"Month\")\r\n",
        "plt.ylabel(\"Frequency\")\r\n",
        "plt.show()\r\n",
        "fig = ax.get_figure()"
      ],
      "execution_count": null,
      "outputs": [
        {
          "output_type": "display_data",
          "data": {
            "image/png": "[encoded data removed]",
            "text/plain": [
              "<Figure size 432x288 with 1 Axes>"
            ]
          },
          "metadata": {
            "tags": [],
            "needs_background": "light"
          }
        }
      ]
    },
    {
      "cell_type": "markdown",
      "metadata": {
        "id": "iA1v03bq7Fok"
      },
      "source": [
        "### Tweet Activity of M&M'S"
      ]
    },
    {
      "cell_type": "code",
      "metadata": {
        "colab": {
          "base_uri": "https://localhost:8080/"
        },
        "id": "Kk96p21a7Foz",
        "outputId": "c1cb5c54-49a5-4849-d0ed-9a287508e2bb"
      },
      "source": [
        "# time series by day\r\n",
        "df_mmschocolate1 = df_mmschocolate\r\n",
        "df_mmschocolate1['time'] = pd.to_datetime(df_mmschocolate1['created_at'])\r\n",
        "mmschocolate_time = df_mmschocolate1.set_index(['time'])\r\n",
        "\r\n",
        "# create function to count number of tweets \r\n",
        "\r\n",
        "\r\n",
        "mmschocolate_month = mmschocolate_time.resample('M').size()\r\n",
        "ax = mmschocolate_month.plot()\r\n",
        "plt.suptitle(\"Tweet Activity\", fontsize=15)\r\n",
        "plt.xlabel(\"Month\")\r\n",
        "plt.ylabel(\"Frequency\")\r\n",
        "plt.show()\r\n",
        "fig = ax.get_figure()"
      ],
      "execution_count": null,
      "outputs": [
        {
          "output_type": "display_data",
          "data": {
            "image/png": "[encoded data removed]",
            "text/plain": [
              "<Figure size 432x288 with 1 Axes>"
            ]
          },
          "metadata": {
            "tags": [],
            "needs_background": "light"
          }
        }
      ]
    }
  ]
}